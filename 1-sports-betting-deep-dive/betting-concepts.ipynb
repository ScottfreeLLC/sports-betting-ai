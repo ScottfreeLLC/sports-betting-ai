{
  "cells": [
    {
      "cell_type": "markdown",
      "id": "a0e6e5a8",
      "metadata": {
        "id": "a0e6e5a8"
      },
      "source": [
        "# Sports Betting Concepts\n",
        "\n",
        "This notebook introduces core sports betting concepts with definitions, detailed explanations, and examples for each topic."
      ]
    },
    {
      "cell_type": "markdown",
      "id": "d0b90380",
      "metadata": {
        "id": "d0b90380"
      },
      "source": [
        "## 1. Point Spread\n",
        "\n",
        "**Definition:**\n",
        "A spread bet is a type of sports wager where a handicap is applied to the favored team to create a more balanced betting market. The goal is not just to pick the winning team but to predict whether a team will cover the spread.\n",
        "\n",
        "- The minus sign (-) next to a team indicates the favorite. This team is expected to win the game, but they must win by more than the spread for a bet on them to pay out. The spread number represents how many points the team must win by to cover the spread.\n",
        "\n",
        "- The plus sign (+) next to a team indicates the underdog. This team is expected to lose the game, but they can either win outright or lose by fewer points than the spread for a bet on them to pay out."
      ]
    },
    {
      "cell_type": "markdown",
      "id": "dc636ec9",
      "metadata": {
        "id": "dc636ec9"
      },
      "source": [
        "#### Example 1.1: Covering the Spread"
      ]
    },
    {
      "cell_type": "code",
      "execution_count": 2,
      "id": "86a4b76f",
      "metadata": {
        "colab": {
          "base_uri": "https://localhost:8080/"
        },
        "id": "86a4b76f",
        "outputId": "b730e7a0-2168-4d0c-94a5-8f017263422d"
      },
      "outputs": [
        {
          "output_type": "stream",
          "name": "stdout",
          "text": [
            "Example 1.1: Home Team covers the spread: True\n"
          ]
        }
      ],
      "source": [
        "home_score = 28\n",
        "away_score = 21\n",
        "spread = -6.5\n",
        "cover_spread = (home_score - away_score) > abs(spread)\n",
        "print(\"Example 1.1: Home Team covers the spread:\", cover_spread)"
      ]
    },
    {
      "cell_type": "markdown",
      "id": "d8e9e06d",
      "metadata": {
        "id": "d8e9e06d"
      },
      "source": [
        "#### Example 1.2: Push (Tie) on the Spread"
      ]
    },
    {
      "cell_type": "code",
      "execution_count": 3,
      "id": "34278259",
      "metadata": {
        "colab": {
          "base_uri": "https://localhost:8080/"
        },
        "id": "34278259",
        "outputId": "430bb96a-a8e2-4f09-de6f-30fd360da5d3"
      },
      "outputs": [
        {
          "output_type": "stream",
          "name": "stdout",
          "text": [
            "Example 1.2: Push on the spread: True\n"
          ]
        }
      ],
      "source": [
        "home_score = 24\n",
        "away_score = 21\n",
        "spread = -3\n",
        "cover_spread = (home_score - away_score) == abs(spread)\n",
        "print(\"Example 1.2: Push on the spread:\", cover_spread)"
      ]
    },
    {
      "cell_type": "markdown",
      "id": "819a39bf",
      "metadata": {
        "id": "819a39bf"
      },
      "source": [
        "#### Example 1.3: Failing to Cover the Spread"
      ]
    },
    {
      "cell_type": "code",
      "execution_count": 4,
      "id": "1fc892e0",
      "metadata": {
        "colab": {
          "base_uri": "https://localhost:8080/"
        },
        "id": "1fc892e0",
        "outputId": "82728868-0a06-43f6-80c8-fe72010ccec7"
      },
      "outputs": [
        {
          "output_type": "stream",
          "name": "stdout",
          "text": [
            "Example 1.3: Home Team covers the spread: False\n"
          ]
        }
      ],
      "source": [
        "home_score = 28\n",
        "away_score = 24\n",
        "spread = -6.5\n",
        "cover_spread = (home_score - away_score) > abs(spread)\n",
        "print(\"Example 1.3: Home Team covers the spread:\", cover_spread)"
      ]
    },
    {
      "cell_type": "markdown",
      "id": "ad2330fe",
      "metadata": {
        "id": "ad2330fe"
      },
      "source": [
        "## 2. Moneyline\n",
        "\n",
        "A moneyline bet is a simple wager where you bet on which team will win the game outright. There are no point spreads involved—just pick the winner.\n",
        "\n",
        "*   The minus sign (-) indicates the favorite. The team with negative odds is expected to win. The number tells you how much you need to bet to win 100 dollars.\n",
        "\n",
        "*   The plus sign (+) indicates the underdog. The team with positive odds is expected to lose. The number tells you how much you would win for betting 100 dollars."
      ]
    },
    {
      "cell_type": "code",
      "source": [
        "def calculate_payout(moneyline, bet_amount=100):\n",
        "    if moneyline > 0:\n",
        "        return (moneyline / 100) * bet_amount\n",
        "    else:\n",
        "        return (100 / abs(moneyline)) * bet_amount"
      ],
      "metadata": {
        "id": "3LQqyFiWWyfD"
      },
      "id": "3LQqyFiWWyfD",
      "execution_count": 1,
      "outputs": []
    },
    {
      "cell_type": "markdown",
      "id": "90dc1c2e",
      "metadata": {
        "id": "90dc1c2e"
      },
      "source": [
        "#### Example 2.1: Betting on the Favorite\n",
        "\n",
        "- Home Team has a moneyline of -150.\n",
        "- If you bet 150 dollars on the Home Team and they win, you will receive a profit of 100 dollars.\n",
        "- The total payout would be 150 dollars stake + 100 dollars profit = 250 dollars."
      ]
    },
    {
      "cell_type": "code",
      "execution_count": 2,
      "id": "15166792",
      "metadata": {
        "colab": {
          "base_uri": "https://localhost:8080/"
        },
        "id": "15166792",
        "outputId": "a6c8db8f-66a2-49e6-eeb9-35652fde6dee"
      },
      "outputs": [
        {
          "output_type": "stream",
          "name": "stdout",
          "text": [
            "Example 2.1: Profit on Home Team winning: $100.00\n"
          ]
        }
      ],
      "source": [
        "payout = calculate_payout(-150, 150)\n",
        "print(f\"Example 2.1: Profit on Home Team winning: ${payout:.2f}\")"
      ]
    },
    {
      "cell_type": "markdown",
      "id": "8db2cae5",
      "metadata": {
        "id": "8db2cae5"
      },
      "source": [
        "#### Example 2.2: Betting on the Underdog\n",
        "\n",
        "- Away Team has a moneyline of +200.\n",
        "- If you bet 100 dollars on the Away Team and they win, you will receive a profit of 200 dollars.\n",
        "- The total payout would be 100 dollars stake + 200 dollars profit = 300 dollars.\n"
      ]
    },
    {
      "cell_type": "code",
      "execution_count": 3,
      "id": "fff86c9a",
      "metadata": {
        "colab": {
          "base_uri": "https://localhost:8080/"
        },
        "id": "fff86c9a",
        "outputId": "38ba480b-5801-4fb7-d77e-8076e555ffde"
      },
      "outputs": [
        {
          "output_type": "stream",
          "name": "stdout",
          "text": [
            "Example 2.2: Profit on Away Team winning: $200.00\n"
          ]
        }
      ],
      "source": [
        "payout = calculate_payout(+200, 100)\n",
        "print(f\"Example 2.2: Profit on Away Team winning: ${payout:.2f}\")"
      ]
    },
    {
      "cell_type": "markdown",
      "id": "77733789",
      "metadata": {
        "id": "77733789"
      },
      "source": [
        "#### Example 2.3: Losing a Moneyline Bet\n",
        "\n",
        "- If you place a 200 dollar bet on Home Team at -150 and they lose, you lose your entire 200 dollar bet.\n",
        "- No money is returned."
      ]
    },
    {
      "cell_type": "code",
      "execution_count": 4,
      "id": "65ae583e",
      "metadata": {
        "colab": {
          "base_uri": "https://localhost:8080/"
        },
        "id": "65ae583e",
        "outputId": "d60aec6d-5d95-4312-899d-2b6b62c92779"
      },
      "outputs": [
        {
          "output_type": "stream",
          "name": "stdout",
          "text": [
            "Example 2.3: Loss on Home Team losing: $-200.00\n"
          ]
        }
      ],
      "source": [
        "home_won = False\n",
        "bet_amount = 200\n",
        "payout = calculate_payout(-150, bet_amount) if home_won else -bet_amount\n",
        "print(f\"Example 2.3: Loss on Home Team losing: ${payout:.2f}\")"
      ]
    },
    {
      "cell_type": "markdown",
      "id": "aab287b3",
      "metadata": {
        "id": "aab287b3"
      },
      "source": [
        "## 3. Total (Over/Under)\n",
        "\n",
        "**Definition:**\n",
        "A bet on whether the combined score of both teams will go over or under a set line."
      ]
    },
    {
      "cell_type": "markdown",
      "id": "f5000278",
      "metadata": {
        "id": "f5000278"
      },
      "source": [
        "#### Example 3.1: Winning the Over"
      ]
    },
    {
      "cell_type": "code",
      "execution_count": 5,
      "id": "6cae647e",
      "metadata": {
        "colab": {
          "base_uri": "https://localhost:8080/"
        },
        "id": "6cae647e",
        "outputId": "d1797f3c-3229-4f52-8c94-e6afe60571b3"
      },
      "outputs": [
        {
          "output_type": "stream",
          "name": "stdout",
          "text": [
            "Example 3.1: Over wins\n"
          ]
        }
      ],
      "source": [
        "total_line = 50.5\n",
        "final_score = 28 + 24\n",
        "result = \"Over wins\" if final_score > total_line else \"Under wins\"\n",
        "print(f\"Example 3.1: {result}\")"
      ]
    },
    {
      "cell_type": "markdown",
      "id": "5490f31b",
      "metadata": {
        "id": "5490f31b"
      },
      "source": [
        "#### Example 3.2: Winning the Under"
      ]
    },
    {
      "cell_type": "code",
      "execution_count": 6,
      "id": "c3e03e71",
      "metadata": {
        "colab": {
          "base_uri": "https://localhost:8080/"
        },
        "id": "c3e03e71",
        "outputId": "8dbdde32-4aa6-4fa9-89f8-1d091c5db9c2"
      },
      "outputs": [
        {
          "output_type": "stream",
          "name": "stdout",
          "text": [
            "Example 3.2: Under wins\n"
          ]
        }
      ],
      "source": [
        "total_line = 45.5\n",
        "final_score = 21 + 17\n",
        "result = \"Over wins\" if final_score > total_line else \"Under wins\"\n",
        "print(f\"Example 3.2: {result}\")"
      ]
    },
    {
      "cell_type": "markdown",
      "id": "a6fe87b5",
      "metadata": {
        "id": "a6fe87b5"
      },
      "source": [
        "#### Example 3.3: Push on the Total"
      ]
    },
    {
      "cell_type": "code",
      "execution_count": 7,
      "id": "6b2b534f",
      "metadata": {
        "colab": {
          "base_uri": "https://localhost:8080/"
        },
        "id": "6b2b534f",
        "outputId": "071dc35c-8589-477d-e789-9adc6fd4af60"
      },
      "outputs": [
        {
          "output_type": "stream",
          "name": "stdout",
          "text": [
            "Example 3.3: Push\n"
          ]
        }
      ],
      "source": [
        "total_line = 48\n",
        "final_score = 24 + 24\n",
        "result = \"Push\" if final_score == total_line else (\"Over wins\" if final_score > total_line else \"Under wins\")\n",
        "print(f\"Example 3.3: {result}\")"
      ]
    },
    {
      "cell_type": "markdown",
      "id": "030b9867",
      "metadata": {
        "id": "030b9867"
      },
      "source": [
        "## 4. Vigorish (Vig)\n",
        "\n",
        "**Definition:**\n",
        "The vig is the fee charged by a sportsbook to ensure profit, commonly factored into standard -110 odds."
      ]
    },
    {
      "cell_type": "markdown",
      "id": "30c1606a",
      "metadata": {
        "id": "30c1606a"
      },
      "source": [
        "#### Example 4.1: Break-even Probability"
      ]
    },
    {
      "cell_type": "code",
      "execution_count": 8,
      "id": "8cf2cc1e",
      "metadata": {
        "colab": {
          "base_uri": "https://localhost:8080/"
        },
        "id": "8cf2cc1e",
        "outputId": "27577fd2-0f43-4a08-f468-6e5eaf3fd971"
      },
      "outputs": [
        {
          "output_type": "stream",
          "name": "stdout",
          "text": [
            "Example 4.1: Break-even win percentage: 52.38%\n"
          ]
        }
      ],
      "source": [
        "def calculate_vig_break_even(odds):\n",
        "    return abs(odds) / (abs(odds) + 100)\n",
        "vig_break_even = calculate_vig_break_even(-110)\n",
        "print(f\"Example 4.1: Break-even win percentage: {vig_break_even:.2%}\")"
      ]
    },
    {
      "cell_type": "markdown",
      "id": "8829d428",
      "metadata": {
        "id": "8829d428"
      },
      "source": [
        "#### Example 4.2: Vig on a Win"
      ]
    },
    {
      "cell_type": "code",
      "execution_count": 10,
      "id": "496c0596",
      "metadata": {
        "colab": {
          "base_uri": "https://localhost:8080/"
        },
        "id": "496c0596",
        "outputId": "0f60ec27-93c6-4d18-ed1e-d6e860bfe3f4"
      },
      "outputs": [
        {
          "output_type": "stream",
          "name": "stdout",
          "text": [
            "Example 4.2 Profit after winning with vig: $100.00\n"
          ]
        }
      ],
      "source": [
        "bet_amount = 110\n",
        "payout = calculate_payout(-110, bet_amount)\n",
        "profit = payout if True else -bet_amount\n",
        "print(f\"Example 4.2 Profit after winning with vig: ${profit:.2f}\")"
      ]
    },
    {
      "cell_type": "markdown",
      "id": "37dcd1d8",
      "metadata": {
        "id": "37dcd1d8"
      },
      "source": [
        "#### Example 4.3: Vig on a Large Bet"
      ]
    },
    {
      "cell_type": "code",
      "execution_count": 9,
      "id": "7e7056ce",
      "metadata": {
        "colab": {
          "base_uri": "https://localhost:8080/"
        },
        "id": "7e7056ce",
        "outputId": "ad75d798-8d7f-48ae-8e96-0f1d78d760a0"
      },
      "outputs": [
        {
          "output_type": "stream",
          "name": "stdout",
          "text": [
            "Example 4.3 Break-even for a $10,000 bet: 52.38%\n"
          ]
        }
      ],
      "source": [
        "bet_amount = 10000\n",
        "break_even_percent = calculate_vig_break_even(-110)\n",
        "print(f\"Example 4.3 Break-even for a $10,000 bet: {break_even_percent:.2%}\")"
      ]
    },
    {
      "cell_type": "markdown",
      "source": [
        "## 5. Odds"
      ],
      "metadata": {
        "id": "sXUugJDvqQyI"
      },
      "id": "sXUugJDvqQyI"
    },
    {
      "cell_type": "markdown",
      "source": [
        "Definition: Odds are a numerical representation of the potential payout and the likelihood of an event occurring.\n",
        "\n",
        "* Purpose: They are used to calculate implied probability and determine how much money you will win on a bet.\n",
        "* Formats: Odds can be expressed in several ways:\n",
        "  - Decimal Odds (e.g., 2.50): Common in Europe and Canada.\n",
        "  - Fractional Odds (e.g., 3/2): Common in the UK and Ireland.\n",
        "  - Moneyline Odds (e.g., +150, -200): Common in the United States."
      ],
      "metadata": {
        "id": "ZsHg3e-kqW-y"
      },
      "id": "ZsHg3e-kqW-y"
    },
    {
      "cell_type": "markdown",
      "source": [
        "#### 5.1 Converting Odds to Moneyline"
      ],
      "metadata": {
        "id": "BDw48ZOyo1BV"
      },
      "id": "BDw48ZOyo1BV"
    },
    {
      "cell_type": "code",
      "source": [
        "def odds_to_moneyline(decimal_odds):\n",
        "    \"\"\"\n",
        "    Converts decimal odds to moneyline odds.\n",
        "\n",
        "    Args:\n",
        "    decimal_odds (float): The decimal odds to convert.\n",
        "\n",
        "    Returns:\n",
        "    float: The equivalent moneyline odds.\n",
        "    \"\"\"\n",
        "    if decimal_odds > 2.0:\n",
        "        # Underdog (positive moneyline)\n",
        "        moneyline = (decimal_odds - 1) * 100\n",
        "    elif decimal_odds > 1.0:\n",
        "        # Favorite (negative moneyline)\n",
        "        moneyline = -100 / (decimal_odds - 1)\n",
        "    else:\n",
        "        raise ValueError(\"Decimal Odds must be greater than 1.0\")\n",
        "\n",
        "    return round(moneyline, 2)"
      ],
      "metadata": {
        "id": "x2-F42eInti2"
      },
      "id": "x2-F42eInti2",
      "execution_count": 9,
      "outputs": []
    },
    {
      "cell_type": "code",
      "source": [
        "# Example 5.1.1: Underdog (Decimal Odds > 2.0)\n",
        "\n",
        "decimal_odds = 2.5\n",
        "moneyline = odds_to_moneyline(decimal_odds)\n",
        "print(f\"Decimal Odds {decimal_odds} = Moneyline {moneyline}\")\n"
      ],
      "metadata": {
        "id": "cTGIygC4n7ia",
        "outputId": "63233385-273d-4679-e20e-2dda912e1493",
        "colab": {
          "base_uri": "https://localhost:8080/"
        }
      },
      "id": "cTGIygC4n7ia",
      "execution_count": 10,
      "outputs": [
        {
          "output_type": "stream",
          "name": "stdout",
          "text": [
            "Decimal Odds 2.5 = Moneyline 150.0\n"
          ]
        }
      ]
    },
    {
      "cell_type": "code",
      "source": [
        "# Example 5.1.2: Favorite (Decimal Odds Between 1.0 and 2.0)\n",
        "\n",
        "decimal_odds = 1.5\n",
        "moneyline = odds_to_moneyline(decimal_odds)\n",
        "print(f\"Decimal Odds {decimal_odds} = Moneyline {moneyline}\")"
      ],
      "metadata": {
        "id": "-UUd7rIYpMX7",
        "outputId": "a7503e13-81e2-4d7e-daa5-0ce9c9225593",
        "colab": {
          "base_uri": "https://localhost:8080/"
        }
      },
      "id": "-UUd7rIYpMX7",
      "execution_count": 11,
      "outputs": [
        {
          "output_type": "stream",
          "name": "stdout",
          "text": [
            "Decimal Odds 1.5 = Moneyline -200.0\n"
          ]
        }
      ]
    },
    {
      "cell_type": "code",
      "source": [
        "# Example 5.1.3: Invalid Input (Decimal Odds ≤ 1.0)\n",
        "try:\n",
        "    decimal_odds = 1.0\n",
        "    moneyline = odds_to_moneyline(decimal_odds)\n",
        "except ValueError as e:\n",
        "    print(e)"
      ],
      "metadata": {
        "id": "-ZWcdqRwpMzP",
        "outputId": "b1fe8e2a-80e8-4e03-f529-025dbb4edfaf",
        "colab": {
          "base_uri": "https://localhost:8080/"
        }
      },
      "id": "-ZWcdqRwpMzP",
      "execution_count": 12,
      "outputs": [
        {
          "output_type": "stream",
          "name": "stdout",
          "text": [
            "Decimal Odds must be greater than 1.0\n"
          ]
        }
      ]
    },
    {
      "cell_type": "markdown",
      "source": [
        "#### 5.2 Converting Moneyline to Odds"
      ],
      "metadata": {
        "id": "I4CS9A8oqCJC"
      },
      "id": "I4CS9A8oqCJC"
    },
    {
      "cell_type": "code",
      "source": [
        "def moneyline_to_odds(moneyline):\n",
        "    \"\"\"\n",
        "    Converts moneyline odds to decimal odds.\n",
        "\n",
        "    Args:\n",
        "    moneyline (float): The moneyline odds to convert.\n",
        "\n",
        "    Returns:\n",
        "    float: The equivalent decimal odds.\n",
        "    \"\"\"\n",
        "    if moneyline > 0:\n",
        "        # Underdog (positive moneyline)\n",
        "        decimal_odds = (moneyline / 100) + 1\n",
        "    elif moneyline < 0:\n",
        "        # Favorite (negative moneyline)\n",
        "        decimal_odds = (100 / abs(moneyline)) + 1\n",
        "    else:\n",
        "        raise ValueError(\"Moneyline odds cannot be zero\")\n",
        "\n",
        "    return round(decimal_odds, 2)\n"
      ],
      "metadata": {
        "id": "i6dpBtZHqJAS"
      },
      "id": "i6dpBtZHqJAS",
      "execution_count": 13,
      "outputs": []
    },
    {
      "cell_type": "code",
      "source": [
        "# Example 5.2.1: Underdog (Positive Moneyline)\n",
        "\n",
        "moneyline = 200\n",
        "decimal_odds = moneyline_to_odds(moneyline)\n",
        "print(f\"Moneyline {moneyline} = Decimal odds {decimal_odds}\")"
      ],
      "metadata": {
        "id": "DiGh4dNIqUFu",
        "outputId": "923dae7a-3016-4d67-9244-1070c705cb2e",
        "colab": {
          "base_uri": "https://localhost:8080/"
        }
      },
      "id": "DiGh4dNIqUFu",
      "execution_count": 15,
      "outputs": [
        {
          "output_type": "stream",
          "name": "stdout",
          "text": [
            "Moneyline 200 = Decimal odds 3.0\n"
          ]
        }
      ]
    },
    {
      "cell_type": "code",
      "source": [
        "# Example 5.2.2: Favorite (Negative Moneyline)\n",
        "\n",
        "moneyline = -150\n",
        "decimal_odds = moneyline_to_odds(moneyline)\n",
        "print(f\"Moneyline {moneyline} = Decimal odds {decimal_odds}\")"
      ],
      "metadata": {
        "id": "a0AS3uJaqIuD",
        "outputId": "3a3a177c-b04a-4c23-91e9-89c34378d4b5",
        "colab": {
          "base_uri": "https://localhost:8080/"
        }
      },
      "id": "a0AS3uJaqIuD",
      "execution_count": 16,
      "outputs": [
        {
          "output_type": "stream",
          "name": "stdout",
          "text": [
            "Moneyline -150 = Decimal odds 1.67\n"
          ]
        }
      ]
    },
    {
      "cell_type": "code",
      "source": [
        "# Example 5.2.3: Invalid Input (Moneyline = 0)\n",
        "try:\n",
        "    moneyline = 0\n",
        "    decimal_odds = moneyline_to_odds(moneyline)\n",
        "except ValueError as e:\n",
        "    print(e)"
      ],
      "metadata": {
        "id": "6HD88AbDqIZM",
        "outputId": "011d051d-4eaf-4892-cd31-30d0af37bb0d",
        "colab": {
          "base_uri": "https://localhost:8080/"
        }
      },
      "id": "6HD88AbDqIZM",
      "execution_count": 17,
      "outputs": [
        {
          "output_type": "stream",
          "name": "stdout",
          "text": [
            "Moneyline odds cannot be zero\n"
          ]
        }
      ]
    },
    {
      "cell_type": "markdown",
      "source": [
        "## 6. Probability of Win\n",
        "\n",
        "The probability of a win in sports betting represents the likelihood (as a percentage or decimal) that a specific team or outcome will occur. It is derived from betting odds provided by sportsbooks, which consider factors like team strength, injuries, public betting behavior, and statistical analysis."
      ],
      "metadata": {
        "id": "AoH3M6esqYOK"
      },
      "id": "AoH3M6esqYOK"
    },
    {
      "cell_type": "markdown",
      "source": [
        "#### How It Is Used in Betting\n",
        "\n",
        "- Assessing Risk:\n",
        "Bettors use winning probability to assess the likelihood of a bet succeeding and to compare it with their personal estimation of the outcome.\n",
        "\n",
        "- Identifying Value:\n",
        "A bet is considered to have positive expected value (EV) when the bettor believes the true winning probability is higher than the implied probability suggested by the odds.\n",
        "\n",
        "- Sportsbook Adjustments:\n",
        "Sportsbooks include their profit margin (vig) in the odds, meaning the implied probabilities for all outcomes of an event will sum to slightly more than 100%."
      ],
      "metadata": {
        "id": "_OVVAQYm9bDV"
      },
      "id": "_OVVAQYm9bDV"
    },
    {
      "cell_type": "markdown",
      "source": [
        "#### 6.1 Converting Moneyline to Probability"
      ],
      "metadata": {
        "id": "XBfoS0YU-Hs7"
      },
      "id": "XBfoS0YU-Hs7"
    },
    {
      "cell_type": "code",
      "source": [
        "def get_prob_win(ml):\n",
        "    \"\"\"\n",
        "    Converts moneyline odds to winning probability.\n",
        "\n",
        "    Args:\n",
        "    ml (float): The moneyline odds.\n",
        "\n",
        "    Returns:\n",
        "    float: The equivalent winning probability (between 0 and 1).\n",
        "    \"\"\"\n",
        "    if ml > 0:\n",
        "        # Underdog (positive moneyline)\n",
        "        prob = 1.0 - (ml / (ml + 100.0))\n",
        "    elif ml < 0:\n",
        "        # Favorite (negative moneyline)\n",
        "        prob = abs(ml) / (abs(ml) + 100.0)\n",
        "    else:\n",
        "        # Edge case: Moneyline is zero\n",
        "        prob = 0.5\n",
        "    return round(prob, 4)"
      ],
      "metadata": {
        "id": "pJ9JsDlQ88wg"
      },
      "id": "pJ9JsDlQ88wg",
      "execution_count": 18,
      "outputs": []
    },
    {
      "cell_type": "code",
      "source": [
        "# Example 6.1.1: Winning Probability for an Underdog\n",
        "ml = 200\n",
        "prob = get_prob_win(ml)\n",
        "print(f\"Moneyline {ml} = Winning Probability {prob:.2%}\")"
      ],
      "metadata": {
        "id": "dlANY3HZ9vFZ",
        "outputId": "2372dbe3-3f5e-460f-c6b4-fdfa258cb6f5",
        "colab": {
          "base_uri": "https://localhost:8080/"
        }
      },
      "id": "dlANY3HZ9vFZ",
      "execution_count": 20,
      "outputs": [
        {
          "output_type": "stream",
          "name": "stdout",
          "text": [
            "Moneyline 200 = Winning Probability 33.33%\n"
          ]
        }
      ]
    },
    {
      "cell_type": "code",
      "source": [
        "# Example 6.1.2: Winning Probability for a Favorite\n",
        "ml = -150\n",
        "prob = get_prob_win(ml)\n",
        "print(f\"Moneyline {ml} = Winning Probability {prob:.2%}\")"
      ],
      "metadata": {
        "id": "_kU3xVL_9wQ4",
        "outputId": "28987616-0975-4685-96fd-3c4e6ef56d9d",
        "colab": {
          "base_uri": "https://localhost:8080/"
        }
      },
      "id": "_kU3xVL_9wQ4",
      "execution_count": 21,
      "outputs": [
        {
          "output_type": "stream",
          "name": "stdout",
          "text": [
            "Moneyline -150 = Winning Probability 60.00%\n"
          ]
        }
      ]
    },
    {
      "cell_type": "code",
      "source": [
        "# Example 6.1.3: Winning Probability for an Even Match\n",
        "ml = 0\n",
        "prob = get_prob_win(ml)\n",
        "print(f\"Moneyline {ml} = Winning Probability {prob:.2%}\")"
      ],
      "metadata": {
        "id": "Gk-AEZjq9v5g",
        "outputId": "5a6c72ce-69e8-4c69-cd4c-fbe0ce7eb20a",
        "colab": {
          "base_uri": "https://localhost:8080/"
        }
      },
      "id": "Gk-AEZjq9v5g",
      "execution_count": 22,
      "outputs": [
        {
          "output_type": "stream",
          "name": "stdout",
          "text": [
            "Moneyline 0 = Winning Probability 50.00%\n"
          ]
        }
      ]
    },
    {
      "cell_type": "markdown",
      "source": [
        "#### 6.2 Converting Probability to Moneyline"
      ],
      "metadata": {
        "id": "T2f3KNML-RGf"
      },
      "id": "T2f3KNML-RGf"
    },
    {
      "cell_type": "code",
      "source": [
        "def get_moneyline_from_prob(prob):\n",
        "    \"\"\"\n",
        "    Converts winning probability to moneyline odds.\n",
        "\n",
        "    Args:\n",
        "    prob (float): The winning probability (between 0 and 1).\n",
        "\n",
        "    Returns:\n",
        "    float: The equivalent moneyline odds.\n",
        "    \"\"\"\n",
        "    if prob <= 0 or prob >= 1:\n",
        "        raise ValueError(\"Probability must be between 0 and 1 (exclusive).\")\n",
        "\n",
        "    if prob > 0.5:\n",
        "        # Favorite (negative moneyline)\n",
        "        moneyline = -100 * (prob / (1 - prob))\n",
        "    else:\n",
        "        # Underdog (positive moneyline)\n",
        "        moneyline = 100 * ((1 - prob) / prob)\n",
        "\n",
        "    return round(moneyline, 2)"
      ],
      "metadata": {
        "id": "i4gB2vfl-X9x"
      },
      "id": "i4gB2vfl-X9x",
      "execution_count": 23,
      "outputs": []
    },
    {
      "cell_type": "code",
      "source": [
        "# Example 6.2.1: Probability for a Favorite (60%)\n",
        "prob = 0.6\n",
        "moneyline = get_moneyline_from_prob(prob)\n",
        "print(f\"Probability {prob:.2%} = Moneyline {moneyline}\")"
      ],
      "metadata": {
        "id": "QSm4Omza-XsH",
        "outputId": "99ff132b-2501-459f-bca1-e4f5d9d76a57",
        "colab": {
          "base_uri": "https://localhost:8080/"
        }
      },
      "id": "QSm4Omza-XsH",
      "execution_count": 24,
      "outputs": [
        {
          "output_type": "stream",
          "name": "stdout",
          "text": [
            "Probability 60.00% = Moneyline -150.0\n"
          ]
        }
      ]
    },
    {
      "cell_type": "code",
      "source": [
        "# Example 6.2.2: Probability for an Underdog (40%)\n",
        "prob = 0.4\n",
        "moneyline = get_moneyline_from_prob(prob)\n",
        "print(f\"Probability {prob:.2%} = Moneyline {moneyline}\")"
      ],
      "metadata": {
        "id": "2YsxqjCV-XQ_",
        "outputId": "6627ae4b-44f7-44d4-a5af-ab5bab4a55ef",
        "colab": {
          "base_uri": "https://localhost:8080/"
        }
      },
      "id": "2YsxqjCV-XQ_",
      "execution_count": 25,
      "outputs": [
        {
          "output_type": "stream",
          "name": "stdout",
          "text": [
            "Probability 40.00% = Moneyline 150.0\n"
          ]
        }
      ]
    },
    {
      "cell_type": "code",
      "source": [
        "# Example 6.2.3: Invalid Probability (100%)\n",
        "try:\n",
        "    prob = 1.0\n",
        "    moneyline = get_moneyline_from_prob(prob)\n",
        "except ValueError as e:\n",
        "    print(e)"
      ],
      "metadata": {
        "id": "MS7G8VT5-Wja",
        "outputId": "3984dfcc-5422-4dd2-ddb7-3df661665e4c",
        "colab": {
          "base_uri": "https://localhost:8080/"
        }
      },
      "id": "MS7G8VT5-Wja",
      "execution_count": 26,
      "outputs": [
        {
          "output_type": "stream",
          "name": "stdout",
          "text": [
            "Probability must be between 0 and 1 (exclusive).\n"
          ]
        }
      ]
    },
    {
      "cell_type": "markdown",
      "id": "cbfa4a89",
      "metadata": {
        "id": "cbfa4a89"
      },
      "source": [
        "## 7. Expected Value (EV)\n",
        "\n",
        "**Expected Value (EV)** is a critical concept in sports betting that measures the potential profit or loss a bettor can expect to earn over the long term from a specific bet. It is calculated by considering both the probability of an outcome occurring and the payout associated with that outcome. The formula for EV is simple: multiply the probability of winning by the profit from a successful bet, subtract the probability of losing multiplied by the amount wagered. A positive EV (+EV) indicates that the bet is expected to be profitable over the long run, while the negative EV(-EV) suggests the bet will likely result in a loss over time.\n",
        "\n",
        "Understanding EV helps bettors make informed decisions by focusing on value rather than emotions or short-term results. For example, even if a team is favored to win, the odds offered by a sportsbook might not provide a fair return compared to the implied probability. By comparing the implied probability from the odds to the bettor’s own assessment of the true probability, EV reveals whether a bet is worth placing. While no single bet guarantees success, consistently wagering on bets with positive EV increases the likelihood of long-term profitability. This makes EV a powerful tool for serious bettors who aim to approach sports betting with a disciplined and strategic mindset."
      ]
    },
    {
      "cell_type": "markdown",
      "id": "432a2763",
      "metadata": {
        "id": "432a2763"
      },
      "source": [
        "#### Example 7.1: Positive EV Bet"
      ]
    },
    {
      "cell_type": "code",
      "source": [
        "def calculate_expected_value(moneyline, win_probability, bet_amount=100):\n",
        "    odds = (moneyline / 100) + 1 if moneyline > 0 else (100 / abs(moneyline)) + 1\n",
        "    profit = (odds - 1) * bet_amount\n",
        "    return (win_probability * profit) - ((1 - win_probability) * bet_amount)"
      ],
      "metadata": {
        "id": "IRn-AXQjRfBC"
      },
      "id": "IRn-AXQjRfBC",
      "execution_count": 27,
      "outputs": []
    },
    {
      "cell_type": "code",
      "execution_count": 13,
      "id": "a37ec3e8",
      "metadata": {
        "colab": {
          "base_uri": "https://localhost:8080/"
        },
        "id": "a37ec3e8",
        "outputId": "a5307b4c-f96e-4835-91c3-17cabd978fc1"
      },
      "outputs": [
        {
          "output_type": "stream",
          "name": "stdout",
          "text": [
            "Example 7.1: Positive EV: $80.00\n"
          ]
        }
      ],
      "source": [
        "ev = calculate_expected_value(+200, 0.60)\n",
        "print(f\"Example 7.1: Positive EV: ${ev:.2f}\")"
      ]
    },
    {
      "cell_type": "markdown",
      "id": "dd9cbb1a",
      "metadata": {
        "id": "dd9cbb1a"
      },
      "source": [
        "#### Example 7.2: Negative EV Bet"
      ]
    },
    {
      "cell_type": "code",
      "execution_count": 28,
      "id": "9aaffe1d",
      "metadata": {
        "colab": {
          "base_uri": "https://localhost:8080/"
        },
        "id": "9aaffe1d",
        "outputId": "60932b30-ce7e-4d12-bf55-8ebf84de9224"
      },
      "outputs": [
        {
          "output_type": "stream",
          "name": "stdout",
          "text": [
            "Example 7.2: Negative EV: $-33.33\n"
          ]
        }
      ],
      "source": [
        "ev = calculate_expected_value(-150, 0.40)\n",
        "print(f\"Example 7.2: Negative EV: ${ev:.2f}\")"
      ]
    },
    {
      "cell_type": "markdown",
      "id": "a2ac5ecf",
      "metadata": {
        "id": "a2ac5ecf"
      },
      "source": [
        "#### Example 7.3: Zero EV Bet"
      ]
    },
    {
      "cell_type": "code",
      "execution_count": 29,
      "id": "81cff86c",
      "metadata": {
        "colab": {
          "base_uri": "https://localhost:8080/"
        },
        "id": "81cff86c",
        "outputId": "b7934805-54e0-41ee-b8c4-f0a06f1a03db"
      },
      "outputs": [
        {
          "output_type": "stream",
          "name": "stdout",
          "text": [
            "Example 7.3: Zero EV (Break-even): $-0.00\n"
          ]
        }
      ],
      "source": [
        "ev = calculate_expected_value(-110, 0.5238)\n",
        "print(f\"Example 7.3: Zero EV (Break-even): ${ev:.2f}\")"
      ]
    },
    {
      "cell_type": "markdown",
      "source": [
        "## 8. Kelly Formula\n",
        "\n",
        "The Kelly Formula (also known as Kelly Criterion) is a method for determining the optimal size of a series of bets to maximize the long-term growth of your capital. It tells you what fraction of your bankroll to bet when you have an edge, meaning that the expected return is positive. Essentially, the formula calculates the fraction to wager as (b * p - (1 - p)) divided by b, where p is the probability of winning, (1 - p) is the probability of losing, and b represents the net profit you would receive on a successful bet for each unit wagered. If the result is positive, it indicates a favorable bet; if it is zero or negative, it suggests that you do not have a sufficient edge to justify the wager.\n",
        "\n",
        "This criterion is popular among both gamblers and investors because it not only seeks to maximize the growth rate of your capital but also manages risk by preventing you from betting too large a portion of your funds on any single wager. By carefully adjusting the amount wagered based on your edge, the Kelly Formula ensures that you avoid risking your entire bankroll during losing streaks while still taking advantage of opportunities to grow your wealth. However, its effectiveness depends on accurately estimating the probability of winning and the payout odds, so many users choose to bet only a fraction of the recommended amount to mitigate potential estimation errors or volatility in outcomes."
      ],
      "metadata": {
        "id": "6UQ3x29PqlA-"
      },
      "id": "6UQ3x29PqlA-"
    },
    {
      "cell_type": "code",
      "source": [
        "import matplotlib.pyplot as plt\n",
        "import numpy as np\n",
        "\n",
        "def kelly_fraction(p, b):\n",
        "    \"\"\"\n",
        "    Calculate the Kelly fraction.\n",
        "\n",
        "    Parameters:\n",
        "    - p: float or np.array, probability of winning\n",
        "    - b: float, net odds received on a win (i.e., profit b dollars per $1 bet)\n",
        "\n",
        "    Returns:\n",
        "    - The Kelly fraction (or fractions if p is an array)\n",
        "    \"\"\"\n",
        "    q = 1 - p\n",
        "    fraction = (b * p - q) / b\n",
        "    return fraction"
      ],
      "metadata": {
        "id": "QWPBeY23n1_t"
      },
      "id": "QWPBeY23n1_t",
      "execution_count": 32,
      "outputs": []
    },
    {
      "cell_type": "code",
      "source": [
        "# --- Example 8.1: Even-Money Bet (Coin Toss) ---\n",
        "# Parameters:\n",
        "#   p = 0.55 (55% chance of winning)\n",
        "#   b = 1 (even-money bet: you win $1 for every $1 bet)\n",
        "p1, b1 = 0.55, 1\n",
        "kelly1 = kelly_fraction(p1, b1)\n",
        "print(\"Example 8.1: Even-Money Bet (Coin Toss)\")\n",
        "print(f\"Probability of Winning (p): {p1}\")\n",
        "print(f\"Odds (b): {b1}\")\n",
        "print(f\"Kelly Fraction: {kelly1:.3f} (i.e., bet {kelly1*100:.1f}% of your bankroll)\\n\")"
      ],
      "metadata": {
        "id": "5Vq16BIKqlmd",
        "outputId": "07aa7a5b-b155-4839-cc12-a259980c1bcf",
        "colab": {
          "base_uri": "https://localhost:8080/"
        }
      },
      "id": "5Vq16BIKqlmd",
      "execution_count": 36,
      "outputs": [
        {
          "output_type": "stream",
          "name": "stdout",
          "text": [
            "Example 8.1: Even-Money Bet (Coin Toss)\n",
            "Probability of Winning (p): 0.55\n",
            "Odds (b): 1\n",
            "Kelly Fraction: 0.100 (i.e., bet 10.0% of your bankroll)\n",
            "\n"
          ]
        }
      ]
    },
    {
      "cell_type": "code",
      "source": [
        "# --- Example 8.2: Higher Odds Bet ---\n",
        "# Parameters:\n",
        "#   p = 0.30 (30% chance of winning)\n",
        "#   b = 4 (if you bet $1, you profit $4 if you win)\n",
        "p2, b2 = 0.30, 4\n",
        "kelly2 = kelly_fraction(p2, b2)\n",
        "print(\"Example 8.2: Higher Odds Bet\")\n",
        "print(f\"Probability of Winning (p): {p2}\")\n",
        "print(f\"Odds (b): {b2}\")\n",
        "print(f\"Kelly Fraction: {kelly2:.3f} (i.e., bet {kelly2*100:.1f}% of your bankroll)\\n\")"
      ],
      "metadata": {
        "id": "urYM0Do3q3TZ",
        "outputId": "4e9d977a-87d8-466a-9c91-fd936d1e5f3a",
        "colab": {
          "base_uri": "https://localhost:8080/"
        }
      },
      "id": "urYM0Do3q3TZ",
      "execution_count": 37,
      "outputs": [
        {
          "output_type": "stream",
          "name": "stdout",
          "text": [
            "Example 8.2: Higher Odds Bet\n",
            "Probability of Winning (p): 0.3\n",
            "Odds (b): 4\n",
            "Kelly Fraction: 0.125 (i.e., bet 12.5% of your bankroll)\n",
            "\n"
          ]
        }
      ]
    },
    {
      "cell_type": "code",
      "source": [
        "# --- Plot Kelly Fraction as a Function of p for a given b ---\n",
        "# For example, let's consider b = 2 and vary p from 0 to 1.\n",
        "b_val = 2\n",
        "p_values = np.linspace(0.0, 1.0, 1000)\n",
        "kelly_values = kelly_fraction(p_values, b_val)\n",
        "\n",
        "plt.figure(figsize=(8, 5))\n",
        "plt.plot(p_values, kelly_values, label=f\"b = {b_val}\")\n",
        "plt.axhline(0, color='black', linestyle='--', linewidth=0.8)\n",
        "plt.xlabel(\"Probability of Winning (p)\")\n",
        "plt.ylabel(\"Kelly Fraction (f*)\")\n",
        "plt.title(f\"Kelly Fraction vs p for b = {b_val}\")\n",
        "plt.legend()\n",
        "plt.grid(True)\n",
        "plt.show()"
      ],
      "metadata": {
        "id": "1RuM3TCGnC2T",
        "outputId": "cdb30af4-6069-4f8e-cf83-e0f13efdfa44",
        "colab": {
          "base_uri": "https://localhost:8080/",
          "height": 487
        }
      },
      "id": "1RuM3TCGnC2T",
      "execution_count": 38,
      "outputs": [
        {
          "output_type": "display_data",
          "data": {
            "text/plain": [
              "<Figure size 800x500 with 1 Axes>"
            ],
            "image/png": "[encoded data removed]"
          },
          "metadata": {}
        }
      ]
    }
  ],
  "metadata": {
    "kernelspec": {
      "display_name": "base",
      "language": "python",
      "name": "python3"
    },
    "language_info": {
      "codemirror_mode": {
        "name": "ipython",
        "version": 3
      },
      "file_extension": ".py",
      "mimetype": "text/x-python",
      "name": "python",
      "nbconvert_exporter": "python",
      "pygments_lexer": "ipython3",
      "version": "3.10.13"
    },
    "colab": {
      "provenance": [],
      "toc_visible": true
    }
  },
  "nbformat": 4,
  "nbformat_minor": 5
}