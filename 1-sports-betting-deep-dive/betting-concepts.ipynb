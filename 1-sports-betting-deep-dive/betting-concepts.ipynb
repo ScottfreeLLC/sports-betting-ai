{
 "cells": [
  {
   "cell_type": "markdown",
   "id": "a0e6e5a8",
   "metadata": {},
   "source": [
    "## Sports Betting Concepts\n",
    "\n",
    "This notebook introduces core sports betting concepts with definitions, detailed explanations, and three examples for each topic."
   ]
  },
  {
   "cell_type": "markdown",
   "id": "d0b90380",
   "metadata": {},
   "source": [
    "### 1. Point Spread\n",
    "\n",
    "**Definition:**\n",
    "The point spread is a margin set by sportsbooks to balance the odds between two teams, representing the expected difference in points."
   ]
  },
  {
   "cell_type": "markdown",
   "id": "dc636ec9",
   "metadata": {},
   "source": [
    "#### Example 1: Covering the Spread"
   ]
  },
  {
   "cell_type": "code",
   "execution_count": 1,
   "id": "86a4b76f",
   "metadata": {},
   "outputs": [
    {
     "name": "stdout",
     "output_type": "stream",
     "text": [
      "Example 1 - Team A covers the spread: True\n"
     ]
    }
   ],
   "source": [
    "team_a_score, team_b_score = 28, 21\n",
    "spread = -6.5\n",
    "cover_spread = (team_a_score - team_b_score) > abs(spread)\n",
    "print(\"Example 1 - Team A covers the spread:\", cover_spread)"
   ]
  },
  {
   "cell_type": "markdown",
   "id": "d8e9e06d",
   "metadata": {},
   "source": [
    "#### Example 2: Push (Tie) on the Spread"
   ]
  },
  {
   "cell_type": "code",
   "execution_count": 2,
   "id": "34278259",
   "metadata": {},
   "outputs": [
    {
     "name": "stdout",
     "output_type": "stream",
     "text": [
      "Example 2 - Push on the spread: False\n"
     ]
    }
   ],
   "source": [
    "team_a_score, team_b_score = 24, 21\n",
    "spread = -3\n",
    "cover_spread = (team_a_score - team_b_score) > abs(spread)\n",
    "print(\"Example 2 - Push on the spread:\", cover_spread)"
   ]
  },
  {
   "cell_type": "markdown",
   "id": "819a39bf",
   "metadata": {},
   "source": [
    "#### Example 3: Failing to Cover the Spread"
   ]
  },
  {
   "cell_type": "code",
   "execution_count": 3,
   "id": "1fc892e0",
   "metadata": {},
   "outputs": [
    {
     "name": "stdout",
     "output_type": "stream",
     "text": [
      "Example 3 - Team A fails to cover: False\n"
     ]
    }
   ],
   "source": [
    "team_a_score, team_b_score = 28, 24\n",
    "spread = -6.5\n",
    "cover_spread = (team_a_score - team_b_score) > abs(spread)\n",
    "print(\"Example 3 - Team A fails to cover:\", cover_spread)"
   ]
  },
  {
   "cell_type": "markdown",
   "id": "ad2330fe",
   "metadata": {},
   "source": [
    "### 2. Moneyline\n",
    "\n",
    "**Definition:**\n",
    "A moneyline bet is a straightforward bet on which team will win the game outright."
   ]
  },
  {
   "cell_type": "markdown",
   "id": "90dc1c2e",
   "metadata": {},
   "source": [
    "#### Example 1: Betting on the Favorite"
   ]
  },
  {
   "cell_type": "code",
   "execution_count": 4,
   "id": "15166792",
   "metadata": {},
   "outputs": [
    {
     "name": "stdout",
     "output_type": "stream",
     "text": [
      "Example 1 - Profit on Team A winning: $100.00\n"
     ]
    }
   ],
   "source": [
    "def calculate_payout(moneyline, bet_amount=100):\n",
    "    if moneyline > 0:\n",
    "        return (moneyline / 100) * bet_amount\n",
    "    else:\n",
    "        return (100 / abs(moneyline)) * bet_amount\n",
    "\n",
    "payout = calculate_payout(-150, 150)\n",
    "print(f\"Example 1 - Profit on Team A winning: ${payout:.2f}\")"
   ]
  },
  {
   "cell_type": "markdown",
   "id": "8db2cae5",
   "metadata": {},
   "source": [
    "#### Example 2: Betting on the Underdog"
   ]
  },
  {
   "cell_type": "code",
   "execution_count": 5,
   "id": "fff86c9a",
   "metadata": {},
   "outputs": [
    {
     "name": "stdout",
     "output_type": "stream",
     "text": [
      "Example 2 - Profit on Team B winning: $200.00\n"
     ]
    }
   ],
   "source": [
    "payout = calculate_payout(+200, 100)\n",
    "print(f\"Example 2 - Profit on Team B winning: ${payout:.2f}\")"
   ]
  },
  {
   "cell_type": "markdown",
   "id": "77733789",
   "metadata": {},
   "source": [
    "#### Example 3: Losing a Moneyline Bet"
   ]
  },
  {
   "cell_type": "code",
   "execution_count": 6,
   "id": "65ae583e",
   "metadata": {},
   "outputs": [
    {
     "name": "stdout",
     "output_type": "stream",
     "text": [
      "Example 3 - Loss on Team A losing: $-200.00\n"
     ]
    }
   ],
   "source": [
    "team_a_won = False\n",
    "bet_amount = 200\n",
    "payout = calculate_payout(-150, bet_amount) if team_a_won else -bet_amount\n",
    "print(f\"Example 3 - Loss on Team A losing: ${payout:.2f}\")"
   ]
  },
  {
   "cell_type": "markdown",
   "id": "aab287b3",
   "metadata": {},
   "source": [
    "### 3. Total (Over/Under)\n",
    "\n",
    "**Definition:**\n",
    "A bet on whether the combined score of both teams will go over or under a set line."
   ]
  },
  {
   "cell_type": "markdown",
   "id": "f5000278",
   "metadata": {},
   "source": [
    "#### Example 1: Winning the Over"
   ]
  },
  {
   "cell_type": "code",
   "execution_count": 7,
   "id": "6cae647e",
   "metadata": {},
   "outputs": [
    {
     "name": "stdout",
     "output_type": "stream",
     "text": [
      "Example 1 - Over wins\n"
     ]
    }
   ],
   "source": [
    "total_line = 50.5\n",
    "final_score = 28 + 24\n",
    "result = \"Over wins\" if final_score > total_line else \"Under wins\"\n",
    "print(f\"Example 1 - {result}\")"
   ]
  },
  {
   "cell_type": "markdown",
   "id": "5490f31b",
   "metadata": {},
   "source": [
    "#### Example 2: Winning the Under"
   ]
  },
  {
   "cell_type": "code",
   "execution_count": 8,
   "id": "c3e03e71",
   "metadata": {},
   "outputs": [
    {
     "name": "stdout",
     "output_type": "stream",
     "text": [
      "Example 2 - Under wins\n"
     ]
    }
   ],
   "source": [
    "total_line = 45.5\n",
    "final_score = 21 + 17\n",
    "result = \"Over wins\" if final_score > total_line else \"Under wins\"\n",
    "print(f\"Example 2 - {result}\")"
   ]
  },
  {
   "cell_type": "markdown",
   "id": "a6fe87b5",
   "metadata": {},
   "source": [
    "#### Example 3: Push on the Total"
   ]
  },
  {
   "cell_type": "code",
   "execution_count": 9,
   "id": "6b2b534f",
   "metadata": {},
   "outputs": [
    {
     "name": "stdout",
     "output_type": "stream",
     "text": [
      "Example 3 - Push\n"
     ]
    }
   ],
   "source": [
    "total_line = 48\n",
    "final_score = 24 + 24\n",
    "result = \"Push\" if final_score == total_line else (\"Over wins\" if final_score > total_line else \"Under wins\")\n",
    "print(f\"Example 3 - {result}\")"
   ]
  },
  {
   "cell_type": "markdown",
   "id": "030b9867",
   "metadata": {},
   "source": [
    "### 4. Vig (Vigorish)\n",
    "\n",
    "**Definition:**\n",
    "The vig is the fee charged by a sportsbook to ensure profit, commonly factored into standard -110 odds."
   ]
  },
  {
   "cell_type": "markdown",
   "id": "30c1606a",
   "metadata": {},
   "source": [
    "#### Example 1: Break-even Probability"
   ]
  },
  {
   "cell_type": "code",
   "execution_count": 10,
   "id": "8cf2cc1e",
   "metadata": {},
   "outputs": [
    {
     "name": "stdout",
     "output_type": "stream",
     "text": [
      "Example 1 - Break-even win percentage: 52.38%\n"
     ]
    }
   ],
   "source": [
    "def calculate_vig_break_even(odds):\n",
    "    return abs(odds) / (abs(odds) + 100)\n",
    "vig_break_even = calculate_vig_break_even(-110)\n",
    "print(f\"Example 1 - Break-even win percentage: {vig_break_even:.2%}\")"
   ]
  },
  {
   "cell_type": "markdown",
   "id": "8829d428",
   "metadata": {},
   "source": [
    "#### Example 2: Vig on a Win"
   ]
  },
  {
   "cell_type": "code",
   "execution_count": 11,
   "id": "496c0596",
   "metadata": {},
   "outputs": [
    {
     "name": "stdout",
     "output_type": "stream",
     "text": [
      "Example 2 - Profit after winning with vig: $100.00\n"
     ]
    }
   ],
   "source": [
    "bet_amount = 110\n",
    "payout = calculate_payout(-110, bet_amount)\n",
    "profit = payout if True else -bet_amount\n",
    "print(f\"Example 2 - Profit after winning with vig: ${profit:.2f}\")"
   ]
  },
  {
   "cell_type": "markdown",
   "id": "37dcd1d8",
   "metadata": {},
   "source": [
    "#### Example 3: Vig on a Large Bet"
   ]
  },
  {
   "cell_type": "code",
   "execution_count": 12,
   "id": "7e7056ce",
   "metadata": {},
   "outputs": [
    {
     "name": "stdout",
     "output_type": "stream",
     "text": [
      "Example 3 - Break-even for a $10,000 bet: 52.38%\n"
     ]
    }
   ],
   "source": [
    "bet_amount = 10000\n",
    "break_even_percent = calculate_vig_break_even(-110)\n",
    "print(f\"Example 3 - Break-even for a $10,000 bet: {break_even_percent:.2%}\")"
   ]
  },
  {
   "cell_type": "markdown",
   "id": "cbfa4a89",
   "metadata": {},
   "source": [
    "### 5. Expected Value (EV)\n",
    "\n",
    "**Definition:**\n",
    "Expected Value (EV) measures the average return of a bet over the long run."
   ]
  },
  {
   "cell_type": "markdown",
   "id": "432a2763",
   "metadata": {},
   "source": [
    "#### Example 1: Positive EV Bet"
   ]
  },
  {
   "cell_type": "code",
   "execution_count": 13,
   "id": "a37ec3e8",
   "metadata": {},
   "outputs": [
    {
     "name": "stdout",
     "output_type": "stream",
     "text": [
      "Example 1 - Positive EV: $80.00\n"
     ]
    }
   ],
   "source": [
    "def calculate_expected_value(moneyline, win_probability, bet_amount=100):\n",
    "    odds = (moneyline / 100) + 1 if moneyline > 0 else (100 / abs(moneyline)) + 1\n",
    "    profit = (odds - 1) * bet_amount\n",
    "    return (win_probability * profit) - ((1 - win_probability) * bet_amount)\n",
    "ev = calculate_expected_value(+200, 0.60)\n",
    "print(f\"Example 1 - Positive EV: ${ev:.2f}\")"
   ]
  },
  {
   "cell_type": "markdown",
   "id": "dd9cbb1a",
   "metadata": {},
   "source": [
    "#### Example 2: Negative EV Bet"
   ]
  },
  {
   "cell_type": "code",
   "execution_count": 14,
   "id": "9aaffe1d",
   "metadata": {},
   "outputs": [
    {
     "name": "stdout",
     "output_type": "stream",
     "text": [
      "Example 2 - Negative EV: $-33.33\n"
     ]
    }
   ],
   "source": [
    "ev = calculate_expected_value(-150, 0.40)\n",
    "print(f\"Example 2 - Negative EV: ${ev:.2f}\")"
   ]
  },
  {
   "cell_type": "markdown",
   "id": "a2ac5ecf",
   "metadata": {},
   "source": [
    "#### Example 3: Zero EV Bet"
   ]
  },
  {
   "cell_type": "code",
   "execution_count": 15,
   "id": "81cff86c",
   "metadata": {},
   "outputs": [
    {
     "name": "stdout",
     "output_type": "stream",
     "text": [
      "Example 3 - Zero EV (Break-even): $-0.00\n"
     ]
    }
   ],
   "source": [
    "ev = calculate_expected_value(-110, 0.5238)\n",
    "print(f\"Example 3 - Zero EV (Break-even): ${ev:.2f}\")"
   ]
  }
 ],
 "metadata": {
  "kernelspec": {
   "display_name": "base",
   "language": "python",
   "name": "python3"
  },
  "language_info": {
   "codemirror_mode": {
    "name": "ipython",
    "version": 3
   },
   "file_extension": ".py",
   "mimetype": "text/x-python",
   "name": "python",
   "nbconvert_exporter": "python",
   "pygments_lexer": "ipython3",
   "version": "3.10.13"
  }
 },
 "nbformat": 4,
 "nbformat_minor": 5
}
