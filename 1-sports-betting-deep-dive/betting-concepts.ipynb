{
  "cells": [
    {
      "cell_type": "markdown",
      "metadata": {
        "id": "view-in-github",
        "colab_type": "text"
      },
      "source": [
        "<a href=\"https://colab.research.google.com/github/ScottfreeLLC/sports-betting-ai/blob/course-development/1-sports-betting-deep-dive/betting-concepts.ipynb\" target=\"_parent\"><img src=\"https://colab.research.google.com/assets/colab-badge.svg\" alt=\"Open In Colab\"/></a>"
      ]
    },
    {
      "cell_type": "markdown",
      "id": "a0e6e5a8",
      "metadata": {
        "id": "a0e6e5a8"
      },
      "source": [
        "# Sports Betting Concepts\n",
        "\n",
        "This notebook introduces core sports betting concepts with definitions, detailed explanations, and examples for each topic."
      ]
    },
    {
      "cell_type": "markdown",
      "id": "d0b90380",
      "metadata": {
        "id": "d0b90380"
      },
      "source": [
        "## 1. Point Spread\n",
        "\n",
        "**Definition:**\n",
        "A spread bet is a type of sports wager where a handicap is applied to the favored team to create a more balanced betting market. The goal is not just to pick the winning team but to predict whether a team will cover the spread.\n",
        "\n",
        "- The minus sign (-) next to a team indicates the favorite. This team is expected to win the game, but they must win by more than the spread for a bet on them to pay out. The spread number represents how many points the team must win by to cover the spread.\n",
        "\n",
        "- The plus sign (+) next to a team indicates the underdog. This team is expected to lose the game, but they can either win outright or lose by fewer points than the spread for a bet on them to pay out."
      ]
    },
    {
      "cell_type": "markdown",
      "id": "dc636ec9",
      "metadata": {
        "id": "dc636ec9"
      },
      "source": [
        "#### Example 1.1: Covering the Spread"
      ]
    },
    {
      "cell_type": "code",
      "execution_count": 2,
      "id": "86a4b76f",
      "metadata": {
        "colab": {
          "base_uri": "https://localhost:8080/"
        },
        "id": "86a4b76f",
        "outputId": "b730e7a0-2168-4d0c-94a5-8f017263422d"
      },
      "outputs": [
        {
          "output_type": "stream",
          "name": "stdout",
          "text": [
            "Example 1.1: Home Team covers the spread: True\n"
          ]
        }
      ],
      "source": [
        "home_score = 28\n",
        "away_score = 21\n",
        "spread = -6.5\n",
        "cover_spread = (home_score - away_score) > abs(spread)\n",
        "print(\"Example 1.1: Home Team covers the spread:\", cover_spread)"
      ]
    },
    {
      "cell_type": "markdown",
      "id": "d8e9e06d",
      "metadata": {
        "id": "d8e9e06d"
      },
      "source": [
        "#### Example 1.2: Push (Tie) on the Spread"
      ]
    },
    {
      "cell_type": "code",
      "execution_count": 3,
      "id": "34278259",
      "metadata": {
        "colab": {
          "base_uri": "https://localhost:8080/"
        },
        "id": "34278259",
        "outputId": "430bb96a-a8e2-4f09-de6f-30fd360da5d3"
      },
      "outputs": [
        {
          "output_type": "stream",
          "name": "stdout",
          "text": [
            "Example 1.2: Push on the spread: True\n"
          ]
        }
      ],
      "source": [
        "home_score = 24\n",
        "away_score = 21\n",
        "spread = -3\n",
        "cover_spread = (home_score - away_score) == abs(spread)\n",
        "print(\"Example 1.2: Push on the spread:\", cover_spread)"
      ]
    },
    {
      "cell_type": "markdown",
      "id": "819a39bf",
      "metadata": {
        "id": "819a39bf"
      },
      "source": [
        "#### Example 1.3: Failing to Cover the Spread"
      ]
    },
    {
      "cell_type": "code",
      "execution_count": 4,
      "id": "1fc892e0",
      "metadata": {
        "colab": {
          "base_uri": "https://localhost:8080/"
        },
        "id": "1fc892e0",
        "outputId": "82728868-0a06-43f6-80c8-fe72010ccec7"
      },
      "outputs": [
        {
          "output_type": "stream",
          "name": "stdout",
          "text": [
            "Example 1.3: Home Team covers the spread: False\n"
          ]
        }
      ],
      "source": [
        "home_score = 28\n",
        "away_score = 24\n",
        "spread = -6.5\n",
        "cover_spread = (home_score - away_score) > abs(spread)\n",
        "print(\"Example 1.3: Home Team covers the spread:\", cover_spread)"
      ]
    },
    {
      "cell_type": "markdown",
      "id": "ad2330fe",
      "metadata": {
        "id": "ad2330fe"
      },
      "source": [
        "## 2. Moneyline\n",
        "\n",
        "A moneyline bet is a simple wager where you bet on which team will win the game outright. There are no point spreads involved—just pick the winner.\n",
        "\n",
        "*   The minus sign (-) indicates the favorite. The team with negative odds is expected to win. The number tells you how much you need to bet to win 100 dollars.\n",
        "\n",
        "*   The plus sign (+) indicates the underdog. The team with positive odds is expected to lose. The number tells you how much you would win for betting 100 dollars."
      ]
    },
    {
      "cell_type": "code",
      "source": [
        "def calculate_payout(moneyline, bet_amount=100):\n",
        "    if moneyline > 0:\n",
        "        return (moneyline / 100) * bet_amount\n",
        "    else:\n",
        "        return (100 / abs(moneyline)) * bet_amount"
      ],
      "metadata": {
        "id": "3LQqyFiWWyfD"
      },
      "id": "3LQqyFiWWyfD",
      "execution_count": 1,
      "outputs": []
    },
    {
      "cell_type": "markdown",
      "id": "90dc1c2e",
      "metadata": {
        "id": "90dc1c2e"
      },
      "source": [
        "#### Example 2.1: Betting on the Favorite\n",
        "\n",
        "- Home Team has a moneyline of -150.\n",
        "- If you bet 150 dollars on the Home Team and they win, you will receive a profit of 100 dollars.\n",
        "- The total payout would be 150 dollars stake + 100 dollars profit = 250 dollars."
      ]
    },
    {
      "cell_type": "code",
      "execution_count": 2,
      "id": "15166792",
      "metadata": {
        "colab": {
          "base_uri": "https://localhost:8080/"
        },
        "id": "15166792",
        "outputId": "a6c8db8f-66a2-49e6-eeb9-35652fde6dee"
      },
      "outputs": [
        {
          "output_type": "stream",
          "name": "stdout",
          "text": [
            "Example 2.1: Profit on Home Team winning: $100.00\n"
          ]
        }
      ],
      "source": [
        "payout = calculate_payout(-150, 150)\n",
        "print(f\"Example 2.1: Profit on Home Team winning: ${payout:.2f}\")"
      ]
    },
    {
      "cell_type": "markdown",
      "id": "8db2cae5",
      "metadata": {
        "id": "8db2cae5"
      },
      "source": [
        "#### Example 2.2: Betting on the Underdog\n",
        "\n",
        "- Away Team has a moneyline of +200.\n",
        "- If you bet 100 dollars on the Away Team and they win, you will receive a profit of 200 dollars.\n",
        "- The total payout would be 100 dollars stake + 200 dollars profit = 300 dollars.\n"
      ]
    },
    {
      "cell_type": "code",
      "execution_count": 3,
      "id": "fff86c9a",
      "metadata": {
        "colab": {
          "base_uri": "https://localhost:8080/"
        },
        "id": "fff86c9a",
        "outputId": "38ba480b-5801-4fb7-d77e-8076e555ffde"
      },
      "outputs": [
        {
          "output_type": "stream",
          "name": "stdout",
          "text": [
            "Example 2.2: Profit on Away Team winning: $200.00\n"
          ]
        }
      ],
      "source": [
        "payout = calculate_payout(+200, 100)\n",
        "print(f\"Example 2.2: Profit on Away Team winning: ${payout:.2f}\")"
      ]
    },
    {
      "cell_type": "markdown",
      "id": "77733789",
      "metadata": {
        "id": "77733789"
      },
      "source": [
        "#### Example 2.3: Losing a Moneyline Bet\n",
        "\n",
        "- If you place a 200 dollar bet on Home Team at -150 and they lose, you lose your entire 200 dollar bet.\n",
        "- No money is returned."
      ]
    },
    {
      "cell_type": "code",
      "execution_count": 4,
      "id": "65ae583e",
      "metadata": {
        "colab": {
          "base_uri": "https://localhost:8080/"
        },
        "id": "65ae583e",
        "outputId": "d60aec6d-5d95-4312-899d-2b6b62c92779"
      },
      "outputs": [
        {
          "output_type": "stream",
          "name": "stdout",
          "text": [
            "Example 2.3: Loss on Home Team losing: $-200.00\n"
          ]
        }
      ],
      "source": [
        "home_won = False\n",
        "bet_amount = 200\n",
        "payout = calculate_payout(-150, bet_amount) if home_won else -bet_amount\n",
        "print(f\"Example 2.3: Loss on Home Team losing: ${payout:.2f}\")"
      ]
    },
    {
      "cell_type": "markdown",
      "id": "aab287b3",
      "metadata": {
        "id": "aab287b3"
      },
      "source": [
        "## 3. Total (Over/Under)\n",
        "\n",
        "**Definition:**\n",
        "A bet on whether the combined score of both teams will go over or under a set line."
      ]
    },
    {
      "cell_type": "markdown",
      "id": "f5000278",
      "metadata": {
        "id": "f5000278"
      },
      "source": [
        "#### Example 3.1: Winning the Over"
      ]
    },
    {
      "cell_type": "code",
      "execution_count": 8,
      "id": "6cae647e",
      "metadata": {
        "colab": {
          "base_uri": "https://localhost:8080/"
        },
        "id": "6cae647e",
        "outputId": "846d275d-aade-429a-bc61-c15bda53e0b2"
      },
      "outputs": [
        {
          "output_type": "stream",
          "name": "stdout",
          "text": [
            "Example 1 - Over wins\n"
          ]
        }
      ],
      "source": [
        "total_line = 50.5\n",
        "final_score = 28 + 24\n",
        "result = \"Over wins\" if final_score > total_line else \"Under wins\"\n",
        "print(f\"Example 1 - {result}\")"
      ]
    },
    {
      "cell_type": "markdown",
      "id": "5490f31b",
      "metadata": {
        "id": "5490f31b"
      },
      "source": [
        "#### Example 3.2: Winning the Under"
      ]
    },
    {
      "cell_type": "code",
      "execution_count": 9,
      "id": "c3e03e71",
      "metadata": {
        "colab": {
          "base_uri": "https://localhost:8080/"
        },
        "id": "c3e03e71",
        "outputId": "2e1cd0e2-3c80-4ea9-9053-6828dbe6aa0a"
      },
      "outputs": [
        {
          "output_type": "stream",
          "name": "stdout",
          "text": [
            "Example 2 - Under wins\n"
          ]
        }
      ],
      "source": [
        "total_line = 45.5\n",
        "final_score = 21 + 17\n",
        "result = \"Over wins\" if final_score > total_line else \"Under wins\"\n",
        "print(f\"Example 2 - {result}\")"
      ]
    },
    {
      "cell_type": "markdown",
      "id": "a6fe87b5",
      "metadata": {
        "id": "a6fe87b5"
      },
      "source": [
        "#### Example 3.3: Push on the Total"
      ]
    },
    {
      "cell_type": "code",
      "execution_count": 10,
      "id": "6b2b534f",
      "metadata": {
        "colab": {
          "base_uri": "https://localhost:8080/"
        },
        "id": "6b2b534f",
        "outputId": "c283e82c-1ad1-4f33-f369-d40adabe41f6"
      },
      "outputs": [
        {
          "output_type": "stream",
          "name": "stdout",
          "text": [
            "Example 3 - Push\n"
          ]
        }
      ],
      "source": [
        "total_line = 48\n",
        "final_score = 24 + 24\n",
        "result = \"Push\" if final_score == total_line else (\"Over wins\" if final_score > total_line else \"Under wins\")\n",
        "print(f\"Example 3 - {result}\")"
      ]
    },
    {
      "cell_type": "markdown",
      "id": "030b9867",
      "metadata": {
        "id": "030b9867"
      },
      "source": [
        "## 4. Vig (Vigorish)\n",
        "\n",
        "**Definition:**\n",
        "The vig is the fee charged by a sportsbook to ensure profit, commonly factored into standard -110 odds."
      ]
    },
    {
      "cell_type": "markdown",
      "id": "30c1606a",
      "metadata": {
        "id": "30c1606a"
      },
      "source": [
        "#### Example 4.1: Break-even Probability"
      ]
    },
    {
      "cell_type": "code",
      "execution_count": 11,
      "id": "8cf2cc1e",
      "metadata": {
        "colab": {
          "base_uri": "https://localhost:8080/"
        },
        "id": "8cf2cc1e",
        "outputId": "338ebca8-06f6-4e74-c0d3-d54c67808cf7"
      },
      "outputs": [
        {
          "output_type": "stream",
          "name": "stdout",
          "text": [
            "Example 1 - Break-even win percentage: 52.38%\n"
          ]
        }
      ],
      "source": [
        "def calculate_vig_break_even(odds):\n",
        "    return abs(odds) / (abs(odds) + 100)\n",
        "vig_break_even = calculate_vig_break_even(-110)\n",
        "print(f\"Example 1 - Break-even win percentage: {vig_break_even:.2%}\")"
      ]
    },
    {
      "cell_type": "markdown",
      "id": "8829d428",
      "metadata": {
        "id": "8829d428"
      },
      "source": [
        "#### Example 4.2: Vig on a Win"
      ]
    },
    {
      "cell_type": "code",
      "execution_count": 12,
      "id": "496c0596",
      "metadata": {
        "colab": {
          "base_uri": "https://localhost:8080/"
        },
        "id": "496c0596",
        "outputId": "cc6af710-aecd-4160-dde3-7c86f1c507f0"
      },
      "outputs": [
        {
          "output_type": "stream",
          "name": "stdout",
          "text": [
            "Example 2 - Profit after winning with vig: $100.00\n"
          ]
        }
      ],
      "source": [
        "bet_amount = 110\n",
        "payout = calculate_payout(-110, bet_amount)\n",
        "profit = payout if True else -bet_amount\n",
        "print(f\"Example 2 - Profit after winning with vig: ${profit:.2f}\")"
      ]
    },
    {
      "cell_type": "markdown",
      "id": "37dcd1d8",
      "metadata": {
        "id": "37dcd1d8"
      },
      "source": [
        "#### Example 4.3: Vig on a Large Bet"
      ]
    },
    {
      "cell_type": "code",
      "execution_count": 13,
      "id": "7e7056ce",
      "metadata": {
        "colab": {
          "base_uri": "https://localhost:8080/"
        },
        "id": "7e7056ce",
        "outputId": "85a49088-ac44-409f-9dd8-cd3ae23724f2"
      },
      "outputs": [
        {
          "output_type": "stream",
          "name": "stdout",
          "text": [
            "Example 3 - Break-even for a $10,000 bet: 52.38%\n"
          ]
        }
      ],
      "source": [
        "bet_amount = 10000\n",
        "break_even_percent = calculate_vig_break_even(-110)\n",
        "print(f\"Example 3 - Break-even for a $10,000 bet: {break_even_percent:.2%}\")"
      ]
    },
    {
      "cell_type": "markdown",
      "id": "cbfa4a89",
      "metadata": {
        "id": "cbfa4a89"
      },
      "source": [
        "## 5. Expected Value (EV)\n",
        "\n",
        "**Definition:**\n",
        "Expected Value (EV) measures the average return of a bet over the long run."
      ]
    },
    {
      "cell_type": "markdown",
      "id": "432a2763",
      "metadata": {
        "id": "432a2763"
      },
      "source": [
        "#### Example 5.1: Positive EV Bet"
      ]
    },
    {
      "cell_type": "code",
      "source": [
        "def calculate_expected_value(moneyline, win_probability, bet_amount=100):\n",
        "    odds = (moneyline / 100) + 1 if moneyline > 0 else (100 / abs(moneyline)) + 1\n",
        "    profit = (odds - 1) * bet_amount\n",
        "    return (win_probability * profit) - ((1 - win_probability) * bet_amount)"
      ],
      "metadata": {
        "id": "IRn-AXQjRfBC"
      },
      "id": "IRn-AXQjRfBC",
      "execution_count": 9,
      "outputs": []
    },
    {
      "cell_type": "code",
      "execution_count": 10,
      "id": "a37ec3e8",
      "metadata": {
        "colab": {
          "base_uri": "https://localhost:8080/"
        },
        "id": "a37ec3e8",
        "outputId": "97fc31ba-36a9-4b1a-b87b-5a52acd13c9c"
      },
      "outputs": [
        {
          "output_type": "stream",
          "name": "stdout",
          "text": [
            "Example 5.1: Positive EV: $80.00\n"
          ]
        }
      ],
      "source": [
        "ev = calculate_expected_value(+200, 0.60)\n",
        "print(f\"Example 5.1: Positive EV: ${ev:.2f}\")"
      ]
    },
    {
      "cell_type": "markdown",
      "id": "dd9cbb1a",
      "metadata": {
        "id": "dd9cbb1a"
      },
      "source": [
        "#### Example 5.2: Negative EV Bet"
      ]
    },
    {
      "cell_type": "code",
      "execution_count": 11,
      "id": "9aaffe1d",
      "metadata": {
        "colab": {
          "base_uri": "https://localhost:8080/"
        },
        "id": "9aaffe1d",
        "outputId": "7b6cca1f-ac6a-4886-b716-9143bb95bd32"
      },
      "outputs": [
        {
          "output_type": "stream",
          "name": "stdout",
          "text": [
            "Example 5.2: Negative EV: $-33.33\n"
          ]
        }
      ],
      "source": [
        "ev = calculate_expected_value(-150, 0.40)\n",
        "print(f\"Example 5.2: Negative EV: ${ev:.2f}\")"
      ]
    },
    {
      "cell_type": "markdown",
      "id": "a2ac5ecf",
      "metadata": {
        "id": "a2ac5ecf"
      },
      "source": [
        "#### Example 5.3: Zero EV Bet"
      ]
    },
    {
      "cell_type": "code",
      "execution_count": 12,
      "id": "81cff86c",
      "metadata": {
        "colab": {
          "base_uri": "https://localhost:8080/"
        },
        "id": "81cff86c",
        "outputId": "2a9d6c2f-26d5-4a68-f14d-1516a1255f9e"
      },
      "outputs": [
        {
          "output_type": "stream",
          "name": "stdout",
          "text": [
            "Example 5.3: Zero EV (Break-even): $-0.00\n"
          ]
        }
      ],
      "source": [
        "ev = calculate_expected_value(-110, 0.5238)\n",
        "print(f\"Example 5.3: Zero EV (Break-even): ${ev:.2f}\")"
      ]
    },
    {
      "cell_type": "code",
      "source": [],
      "metadata": {
        "id": "l1JP9yBARZpX"
      },
      "id": "l1JP9yBARZpX",
      "execution_count": null,
      "outputs": []
    }
  ],
  "metadata": {
    "kernelspec": {
      "display_name": "base",
      "language": "python",
      "name": "python3"
    },
    "language_info": {
      "codemirror_mode": {
        "name": "ipython",
        "version": 3
      },
      "file_extension": ".py",
      "mimetype": "text/x-python",
      "name": "python",
      "nbconvert_exporter": "python",
      "pygments_lexer": "ipython3",
      "version": "3.10.13"
    },
    "colab": {
      "provenance": [],
      "toc_visible": true,
      "include_colab_link": true
    }
  },
  "nbformat": 4,
  "nbformat_minor": 5
}